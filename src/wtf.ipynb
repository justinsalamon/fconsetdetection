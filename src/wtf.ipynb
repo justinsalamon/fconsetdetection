{
 "cells": [
  {
   "cell_type": "code",
   "execution_count": 1,
   "metadata": {
    "collapsed": true
   },
   "outputs": [],
   "source": [
    "%matplotlib inline \n",
    "import matplotlib.pyplot as plt\n",
    "import numpy as np\n",
    "import librosa\n",
    "import time"
   ]
  },
  {
   "cell_type": "code",
   "execution_count": 2,
   "metadata": {
    "collapsed": true
   },
   "outputs": [],
   "source": [
    "def spectral_flux(spec):\n",
    "    \"\"\"\n",
    "    Computes the spectral flux of a spectrogram\n",
    "    :param spec: a 2-D array of floats\n",
    "    :return: a numpy array\n",
    "    \"\"\"\n",
    "    return np.sum(np.square(half_rectify(np.absolute(spec[:, 1:]) -\n",
    "                                         np.absolute(spec[:, :-1]))), 0)\n",
    "\n",
    "\n",
    "def half_rectify(n):\n",
    "    return np.fmax(n, np.zeros_like(n))"
   ]
  },
  {
   "cell_type": "code",
   "execution_count": 6,
   "metadata": {
    "collapsed": false
   },
   "outputs": [],
   "source": [
    "filename = '../audio/NSDNS_20110902_192900.wav'\n",
    "outfile = \"../detection_functions/NSDNS_SF_51_ground.npy\"\n",
    "\n",
    "# Load audio and compute spectrogram\n",
    "sr = 24000\n",
    "n_fft = 256         # =win_length\n",
    "win_length = n_fft\n",
    "hop_length = 128.0\n",
    "\n",
    "hop_size = hop_length/sr # in seconds\n",
    "win_size = win_length/sr # in seconds\n",
    "dt = hop_length/sr\n",
    "\n",
    "num_hops_per_block = 10000\n",
    "duration = 1000\n",
    "\n",
    "block_size = hop_size*num_hops_per_block+win_size # in secs"
   ]
  },
  {
   "cell_type": "code",
   "execution_count": 7,
   "metadata": {
    "collapsed": false
   },
   "outputs": [
    {
     "name": "stdout",
     "output_type": "stream",
     "text": [
      "Predicting next block...1.801388\n",
      "(129, 10001)\n",
      "Predicting next block...1.987207\n",
      "(129, 10001)\n",
      "Predicting next block...2.185201\n",
      "(129, 10001)\n",
      "Predicting next block...2.421008\n",
      "(129, 10001)\n",
      "Predicting next block...2.683574\n",
      "(129, 10001)\n",
      "Predicting next block...3.006222\n",
      "(129, 10001)\n",
      "Predicting next block...3.348236\n",
      "(129, 10001)\n",
      "Predicting next block...3.715456\n",
      "(129, 10001)\n",
      "Predicting next block...4.15796\n",
      "(129, 10001)\n",
      "Predicting next block...4.624895\n",
      "(129, 10001)\n",
      "Predicting next block...5.104453\n",
      "(129, 10001)\n",
      "Predicting next block...5.629042\n",
      "(129, 10001)\n",
      "Predicting next block...6.179335\n",
      "(129, 10001)\n",
      "Predicting next block...6.757712\n",
      "(129, 10001)\n",
      "Predicting next block...7.348009\n",
      "(129, 10001)\n",
      "Predicting next block...8.006729\n",
      "(129, 10001)\n",
      "Predicting next block...8.685864\n",
      "(129, 10001)\n",
      "Predicting next block...9.41055\n",
      "(129, 10001)\n",
      "Predicting next block...10.14968\n",
      "(129, 10001)\n",
      "Predicting next block...10.92157\n",
      "last one!\n",
      "0.00533333333333\n"
     ]
    }
   ],
   "source": [
    "streaming_prob = np.asarray([])\n",
    "block_i = 0\n",
    "# Iterate through signal by large blocks (constrained by RAM)\n",
    "done = False\n",
    "while not done:\n",
    "    print \"Predicting next block...\" + str(time.clock())\n",
    "    offset = block_i*block_size\n",
    "    y, _ = librosa.load(filename, offset=offset, duration=block_size, sr=sr)\n",
    "    if len(y) < block_size*sr or (duration is not None and offset > duration):\n",
    "        print \"last one!\"\n",
    "        # BAD!!! Throwing out last bit of data\n",
    "        break\n",
    "        done = True\n",
    "    D = librosa.core.stft(y, n_fft=n_fft, hop_length=hop_length)\n",
    "    print D.shape\n",
    "\n",
    "    streaming_prob = np.append(streaming_prob, spectral_flux(D))\n",
    "    block_i += 1\n",
    "\n",
    "streaming_prob /= np.max(streaming_prob)\n",
    "inv_streaming_prob = np.ones_like(streaming_prob)-streaming_prob\n",
    "out = np.column_stack((streaming_prob, inv_streaming_prob))\n",
    "\n",
    "\n",
    "print dt"
   ]
  },
  {
   "cell_type": "code",
   "execution_count": 8,
   "metadata": {
    "collapsed": false
   },
   "outputs": [
    {
     "data": {
      "text/plain": [
       "[<matplotlib.lines.Line2D at 0x10d93b590>]"
      ]
     },
     "execution_count": 8,
     "metadata": {},
     "output_type": "execute_result"
    },
    {
     "data": {
      "image/png": "[encoded data removed]",
      "text/plain": [
       "<matplotlib.figure.Figure at 0x10a0d1350>"
      ]
     },
     "metadata": {},
     "output_type": "display_data"
    }
   ],
   "source": [
    "plt.plot(streaming_prob)"
   ]
  },
  {
   "cell_type": "code",
   "execution_count": 9,
   "metadata": {
    "collapsed": true
   },
   "outputs": [],
   "source": [
    "np.save(outfile, out)"
   ]
  },
  {
   "cell_type": "code",
   "execution_count": null,
   "metadata": {
    "collapsed": true
   },
   "outputs": [],
   "source": []
  }
 ],
 "metadata": {
  "kernelspec": {
   "display_name": "Python 2",
   "language": "python",
   "name": "python2"
  },
  "language_info": {
   "codemirror_mode": {
    "name": "ipython",
    "version": 2
   },
   "file_extension": ".py",
   "mimetype": "text/x-python",
   "name": "python",
   "nbconvert_exporter": "python",
   "pygments_lexer": "ipython2",
   "version": "2.7.10"
  }
 },
 "nbformat": 4,
 "nbformat_minor": 0
}
