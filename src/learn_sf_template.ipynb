{
 "cells": [
  {
   "cell_type": "code",
   "execution_count": 2,
   "metadata": {
    "collapsed": false
   },
   "outputs": [],
   "source": [
    "%matplotlib inline \n",
    "import matplotlib.pyplot as plt\n",
    "import numpy as np\n",
    "import pandas as pd\n",
    "import time\n",
    "import librosa\n",
    "# import seaborn as sns\n",
    "from sklearn.linear_model import SGDClassifier"
   ]
  },
  {
   "cell_type": "code",
   "execution_count": 3,
   "metadata": {
    "collapsed": true
   },
   "outputs": [],
   "source": [
    "def half_rectify(n):\n",
    "    return np.fmax(n, np.zeros_like(n))"
   ]
  },
  {
   "cell_type": "code",
   "execution_count": 4,
   "metadata": {
    "collapsed": true
   },
   "outputs": [],
   "source": [
    "def spectral_flux(spec):\n",
    "    \"\"\"\n",
    "    Computes the spectral flux of a spectrogram\n",
    "    :param spec: a 2-D array of floats\n",
    "    :return: a numpy array\n",
    "    \"\"\"\n",
    "    return np.sum(np.square(half_rectify(np.absolute(spec[:, 1:]) -\n",
    "                                         np.absolute(spec[:, :-1]))), 0)"
   ]
  },
  {
   "cell_type": "code",
   "execution_count": 5,
   "metadata": {
    "collapsed": true
   },
   "outputs": [],
   "source": [
    "def make_feature_set(spec, spec_dt, annotation_path, w_length):\n",
    "    \"\"\"\n",
    "    Generates features and labels from spectrogram.\n",
    "    :param spec: NxM numpy array\n",
    "    :param spec_dt: float\n",
    "    :param annotation_path: String\n",
    "    :param w_length: int\n",
    "    :return: features, labels\n",
    "    \"\"\"\n",
    "    if annotation_path is not None:\n",
    "        df = pd.read_csv(annotation_path, header=None, \n",
    "            names=['onsets', 'offsets', 'label'], delimiter='\\t')\n",
    "        onsets = np.asarray(df['onsets'])\n",
    "        offsets = np.asarray(df['offsets'])\n",
    "\n",
    "    num_features = spec.shape[1]-w_length+1\n",
    "\n",
    "    # Generate features\n",
    "    features = [[]] * num_features\n",
    "    for i in xrange(num_features):\n",
    "    \tfeatures[i] = np.ravel(spec[:, i:i+w_length])\n",
    "\n",
    "    # Generate labels\n",
    "    if annotation_path is not None:\n",
    "        labels = np.zeros(num_features)\n",
    "#         for on, off in zip(onsets, offsets):\n",
    "        for on in onsets:\n",
    "#             center = (on+off)/2\n",
    "#             start = int(np.round((center-0.100)/spec_dt))\n",
    "#             finish = int(np.round((center+0.100)/spec_dt))\n",
    "            start = int(np.round((on-0.100)/spec_dt))\n",
    "            finish = int(np.round((on+0.100)/spec_dt))\n",
    "            labels[start:finish+1] = 1\n",
    "        return np.asarray(features), labels\n",
    "\n",
    "    return np.asarray(features)"
   ]
  },
  {
   "cell_type": "code",
   "execution_count": 6,
   "metadata": {
    "collapsed": true
   },
   "outputs": [],
   "source": [
    "# Audio params\n",
    "\n",
    "filename = \"../audio/SBI-1_20090915_234016.wav\"\n",
    "annotation_path = \"../annotations/SBI-1_20090915_HAND_LOW_IDaek_EDITED_with_HIGH.txt\"\n",
    "model_path = \"../features/SBI_coefs_41.npy\"\n",
    "\n",
    "# Load audio and compute spectrogram\n",
    "sr = 24000\n",
    "n_fft = 256 # =win_length\n",
    "win_length = n_fft\n",
    "hop_length = 128.0\n",
    "hop_size = hop_length/sr # in seconds\n",
    "win_size = win_length/sr # in seconds\n",
    "spec_dt = hop_length/sr # in seconds\n",
    "\n",
    "# Define length of coefficient window\n",
    "w_length = 5"
   ]
  },
  {
   "cell_type": "code",
   "execution_count": 7,
   "metadata": {
    "collapsed": true
   },
   "outputs": [],
   "source": [
    "# Training params\n",
    "\n",
    "# Iterate through signal by large blocks (constrained by RAM)\n",
    "num_hops_per_block = 10000\n",
    "duration = 3000          #seconds\n",
    "block_size = hop_size*num_hops_per_block\n",
    "block_len = num_hops_per_block-w_length+2\n",
    "\n",
    "# duration = num_hops_per_block*hop_size+win_size     # in secs"
   ]
  },
  {
   "cell_type": "code",
   "execution_count": 8,
   "metadata": {
    "collapsed": false
   },
   "outputs": [
    {
     "name": "stdout",
     "output_type": "stream",
     "text": [
      "Processing next block... i=0 2.552871\n",
      "(9996, 645)\n"
     ]
    }
   ],
   "source": [
    "####################################################\n",
    "# Train model\n",
    "model = SGDClassifier(loss='log', penalty='elasticnet', verbose=2, warm_start=True, class_weight='auto')\n",
    "block_i = 0\n",
    "done = False\n",
    "\n",
    "while not done:\n",
    "    print \"Processing next block... i={} \".format(block_i) + str(time.clock())\n",
    "    offset = block_i*block_len\n",
    "    y, _ = librosa.load(filename, offset=offset, duration=block_size, sr=sr)\n",
    "    if len(y) < block_size*sr or (duration is not None and offset > duration):\n",
    "        print \"last one!\"\n",
    "        # BAD!!! Throwing out last bit of data\n",
    "        break\n",
    "        done = True\n",
    "#     D = np.log10(np.abs(librosa.core.stft(y, n_fft=n_fft, hop_length=hop_length)))\n",
    "    D = (np.abs(librosa.core.stft(y, n_fft=n_fft, hop_length=hop_length)))\n",
    "\n",
    "    (features, labels) = make_feature_set(D, spec_dt, annotation_path,\n",
    "            w_length)\n",
    "\n",
    "#     print features.shape, labels.shape\n",
    "    actual_features = np.square(half_rectify(np.absolute(features[1:, :]) -\n",
    "                                     np.absolute(features[:-1, :])))\n",
    "\n",
    "    print actual_features.shape\n",
    "    break\n",
    "    actual_labels = labels[1:]\n",
    "    \n",
    "    # MAKE SURE I'M NOT THROWING ANYTHING AWAY\n",
    "#     print actual_features.shape\n",
    "    \n",
    "    model.partial_fit(actual_features,actual_labels,classes=[0,1])\n",
    "\n",
    "    block_i += 1\n",
    "    \n"
   ]
  },
  {
   "cell_type": "code",
   "execution_count": 30,
   "metadata": {
    "collapsed": false
   },
   "outputs": [
    {
     "name": "stdout",
     "output_type": "stream",
     "text": [
      "(129, 5)\n"
     ]
    },
    {
     "data": {
      "text/plain": [
       "<matplotlib.image.AxesImage at 0x118b832d0>"
      ]
     },
     "execution_count": 30,
     "metadata": {},
     "output_type": "execute_result"
    },
    {
     "data": {
      "image/png": "[encoded data removed]",
      "text/plain": [
       "<matplotlib.figure.Figure at 0x118b55ad0>"
      ]
     },
     "metadata": {},
     "output_type": "display_data"
    }
   ],
   "source": [
    "coefs2 = model.coef_.reshape((n_fft/2 + 1, w_length))\n",
    "coefs = model.coef_\n",
    "model.coef_.shape\n",
    "# np.save(model_path, coefs)\n",
    "# print np.nonzero(actual_labels)\n",
    "# print len(actual_labels)\n",
    "# print np.sum(coefs)\n",
    "print coefs2.shape\n",
    "plt.imshow((coefs2), interpolation='nearest', aspect='auto', cmap='hot')"
   ]
  },
  {
   "cell_type": "code",
   "execution_count": 39,
   "metadata": {
    "collapsed": false
   },
   "outputs": [
    {
     "data": {
      "text/plain": [
       "8"
      ]
     },
     "execution_count": 39,
     "metadata": {},
     "output_type": "execute_result"
    }
   ],
   "source": [
    "np.argmax(coefs2[:,2])"
   ]
  },
  {
   "cell_type": "code",
   "execution_count": 31,
   "metadata": {
    "collapsed": false
   },
   "outputs": [
    {
     "name": "stdout",
     "output_type": "stream",
     "text": [
      "Testing next block... i=0 30.756649\n",
      "Testing next block... i=1 32.070889\n",
      "Testing next block... i=2 40.35076\n",
      "Testing next block... i=3 55.840217\n",
      "Testing next block... i=4 77.796154\n",
      "last one!\n",
      "0.00533333333333\n"
     ]
    }
   ],
   "source": [
    "####################################################\n",
    "# Evaluate model\n",
    "test_path = '../audio/NSDNS_20110902_192900.wav'\n",
    "detection_curve_path = '../detection_functions/NSDNS_SF_43.npy'\n",
    "\n",
    "# coefs = np.load(model_path)\n",
    "# c = coefs.reshape(645,1)\n",
    "block_i = 0\n",
    "duration = None          #seconds\n",
    "done = False\n",
    "detection_curve = np.zeros((1,0))\n",
    "\n",
    "block_len = num_hops_per_block-w_length+2\n",
    "\n",
    "while not done:\n",
    "    print \"Testing next block... i={} \".format(block_i) + str(time.clock())\n",
    "    offset = block_i*block_len\n",
    "    y, _ = librosa.load(test_path, offset=offset, duration=block_size, sr=sr)\n",
    "    if len(y) < block_size*sr or (duration is not None and offset > duration):\n",
    "        print \"last one!\"\n",
    "        # BAD!!! Throwing out last bit of data\n",
    "        break\n",
    "        done = True\n",
    "    D = np.log(np.abs(librosa.core.stft(y, n_fft=n_fft, hop_length=hop_length)))\n",
    "\n",
    "    features = np.asarray(make_feature_set(D, spec_dt, annotation_path=None, \n",
    "        w_length=w_length))\n",
    "\n",
    "    actual_features = np.square(half_rectify(np.absolute(features[1:, :]) -\n",
    "                                     np.absolute(features[:-1, :])))\n",
    "    \n",
    "#     features = features.T\n",
    "\n",
    "#     print features.shape\n",
    "    \n",
    "    # Template detector\n",
    "    # detection_curve = np.concatenate((detection_curve,features.dot(c)), axis=1)\n",
    "\n",
    "    # Multi-frame SF\n",
    "#     print coefs.shape\n",
    "#     print actual_features.shape\n",
    "#     print np.dot(coefs, actual_features.T).shape\n",
    "    detection_curve = np.concatenate((detection_curve,np.dot(coefs, actual_features.T)), axis=1)\n",
    "\n",
    "    block_i += 1\n",
    "\n",
    "np.save(detection_curve_path, detection_curve.T)\n",
    "\n",
    "print spec_dt"
   ]
  },
  {
   "cell_type": "code",
   "execution_count": 23,
   "metadata": {
    "collapsed": false
   },
   "outputs": [
    {
     "name": "stdout",
     "output_type": "stream",
     "text": [
      "(1, 9996)\n",
      "[[-129.99611488  -97.58359011 -144.1769232  ...,  -91.17839013  -66.043155\n",
      "  -167.02331117]]\n",
      "[-129.99611488  -97.58359011 -144.1769232  ...,  -91.17839013  -66.043155\n",
      " -167.02331117]\n"
     ]
    }
   ],
   "source": [
    "print detection_curve.shape\n",
    "print detection_curve[:10]\n",
    "print detection_curve[0,:]\n",
    "np.save(detection_curve_path, detection_curve[0,:])"
   ]
  },
  {
   "cell_type": "code",
   "execution_count": 37,
   "metadata": {
    "collapsed": false
   },
   "outputs": [
    {
     "data": {
      "image/png": "[encoded data removed]",
      "text/plain": [
       "<matplotlib.figure.Figure at 0x11e265d90>"
      ]
     },
     "metadata": {},
     "output_type": "display_data"
    }
   ],
   "source": [
    "# detection_curve = detection_curve[1:]\n",
    "# detection_curve -= min(detection_curve)\n",
    "# detection_curve /= max(detection_curve)\n",
    "plt.plot(detection_curve.ravel())\n",
    "onsets = np.nonzero(actual_labels)\n",
    "plt.plot([onsets[0],onsets[0]], [-40,40], 'r')\n",
    "plt.show()"
   ]
  },
  {
   "cell_type": "code",
   "execution_count": 33,
   "metadata": {
    "collapsed": false
   },
   "outputs": [
    {
     "data": {
      "text/plain": [
       "(array([872, 873, 874, 875, 876, 877, 878, 879, 880, 881, 882, 883, 884,\n",
       "        885, 886, 887, 888, 889, 890, 891, 892, 893, 894, 895, 896, 897,\n",
       "        898, 899, 900, 901, 902, 903, 904, 905, 906, 907, 908, 909]),)"
      ]
     },
     "execution_count": 33,
     "metadata": {},
     "output_type": "execute_result"
    }
   ],
   "source": [
    "actual_labels[6280:6295]\n",
    "np.nonzero(actual_labels)"
   ]
  },
  {
   "cell_type": "code",
   "execution_count": null,
   "metadata": {
    "collapsed": true
   },
   "outputs": [],
   "source": []
  }
 ],
 "metadata": {
  "kernelspec": {
   "display_name": "Python 2",
   "language": "python",
   "name": "python2"
  },
  "language_info": {
   "codemirror_mode": {
    "name": "ipython",
    "version": 2
   },
   "file_extension": ".py",
   "mimetype": "text/x-python",
   "name": "python",
   "nbconvert_exporter": "python",
   "pygments_lexer": "ipython2",
   "version": "2.7.10"
  }
 },
 "nbformat": 4,
 "nbformat_minor": 0
}
